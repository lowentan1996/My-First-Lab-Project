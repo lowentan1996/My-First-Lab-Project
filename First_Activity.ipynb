{
  "cells": [
    {
      "cell_type": "markdown",
      "metadata": {
        "id": "view-in-github",
        "colab_type": "text"
      },
      "source": [
        "<a href=\"https://colab.research.google.com/github/lowentan1996/My-First-Lab-Project/blob/main/First_Activity.ipynb\" target=\"_parent\"><img src=\"https://colab.research.google.com/assets/colab-badge.svg\" alt=\"Open In Colab\"/></a>"
      ]
    },
    {
      "cell_type": "code",
      "execution_count": 1,
      "metadata": {
        "colab": {
          "base_uri": "https://localhost:8080/"
        },
        "id": "cf6kvcuvI4sZ",
        "outputId": "46840807-9f7b-4bee-b01c-4fc88f0e53b4"
      },
      "outputs": [
        {
          "output_type": "stream",
          "name": "stdout",
          "text": [
            "Hello Wordl\n"
          ]
        }
      ],
      "source": [
        "print(\"Hello Wordl\")"
      ]
    },
    {
      "cell_type": "markdown",
      "metadata": {
        "id": "Uu9-sB0RI4sg"
      },
      "source": [
        "###My First Notebook Documentation Project"
      ]
    },
    {
      "cell_type": "markdown",
      "metadata": {
        "id": "lwNc1zJwI4si"
      },
      "source": [
        "*Lowenfeld Tan"
      ]
    }
  ],
  "metadata": {
    "kernelspec": {
      "display_name": "Python 3",
      "language": "python",
      "name": "python3"
    },
    "language_info": {
      "codemirror_mode": {
        "name": "ipython",
        "version": 3
      },
      "file_extension": ".py",
      "mimetype": "text/x-python",
      "name": "python",
      "nbconvert_exporter": "python",
      "pygments_lexer": "ipython3",
      "version": "3.7.6"
    },
    "colab": {
      "name": "First Activity.ipynb",
      "provenance": [],
      "include_colab_link": true
    }
  },
  "nbformat": 4,
  "nbformat_minor": 0
}